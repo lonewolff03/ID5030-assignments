{
 "cells": [
  {
   "attachments": {},
   "cell_type": "markdown",
   "metadata": {},
   "source": [
    "# ID5030 Assignment 7\n",
    "## Recurrent Neural Networks\n",
    "By: P Akhil Reddy    \n",
    "Roll No. CH20B076\n"
   ]
  },
  {
   "cell_type": "code",
   "execution_count": 1,
   "metadata": {},
   "outputs": [],
   "source": [
    "import numpy as np\n",
    "import pandas as pd\n",
    "import torch\n",
    "import torch.nn as nn\n",
    "from torch.utils.data import TensorDataset, DataLoader\n",
    "import torch.optim as optim\n",
    "\n",
    "import matplotlib.pyplot as plt\n",
    "import holidays\n",
    "\n",
    "from sklearn.preprocessing import StandardScaler\n",
    "from sklearn.metrics import mean_squared_error, r2_score"
   ]
  },
  {
   "cell_type": "code",
   "execution_count": 2,
   "metadata": {},
   "outputs": [
    {
     "data": {
      "text/html": [
       "<div>\n",
       "<style scoped>\n",
       "    .dataframe tbody tr th:only-of-type {\n",
       "        vertical-align: middle;\n",
       "    }\n",
       "\n",
       "    .dataframe tbody tr th {\n",
       "        vertical-align: top;\n",
       "    }\n",
       "\n",
       "    .dataframe thead th {\n",
       "        text-align: right;\n",
       "    }\n",
       "</style>\n",
       "<table border=\"1\" class=\"dataframe\">\n",
       "  <thead>\n",
       "    <tr style=\"text-align: right;\">\n",
       "      <th></th>\n",
       "      <th>Datetime</th>\n",
       "      <th>PJMW_MW</th>\n",
       "    </tr>\n",
       "  </thead>\n",
       "  <tbody>\n",
       "    <tr>\n",
       "      <th>0</th>\n",
       "      <td>2002-12-31 01:00:00</td>\n",
       "      <td>5077.0</td>\n",
       "    </tr>\n",
       "    <tr>\n",
       "      <th>1</th>\n",
       "      <td>2002-12-31 02:00:00</td>\n",
       "      <td>4939.0</td>\n",
       "    </tr>\n",
       "    <tr>\n",
       "      <th>2</th>\n",
       "      <td>2002-12-31 03:00:00</td>\n",
       "      <td>4885.0</td>\n",
       "    </tr>\n",
       "    <tr>\n",
       "      <th>3</th>\n",
       "      <td>2002-12-31 04:00:00</td>\n",
       "      <td>4857.0</td>\n",
       "    </tr>\n",
       "    <tr>\n",
       "      <th>4</th>\n",
       "      <td>2002-12-31 05:00:00</td>\n",
       "      <td>4930.0</td>\n",
       "    </tr>\n",
       "  </tbody>\n",
       "</table>\n",
       "</div>"
      ],
      "text/plain": [
       "              Datetime  PJMW_MW\n",
       "0  2002-12-31 01:00:00   5077.0\n",
       "1  2002-12-31 02:00:00   4939.0\n",
       "2  2002-12-31 03:00:00   4885.0\n",
       "3  2002-12-31 04:00:00   4857.0\n",
       "4  2002-12-31 05:00:00   4930.0"
      ]
     },
     "execution_count": 2,
     "metadata": {},
     "output_type": "execute_result"
    }
   ],
   "source": [
    "df = pd.read_csv(\"./rnn_dataset.csv\")\n",
    "df.head()"
   ]
  },
  {
   "attachments": {},
   "cell_type": "markdown",
   "metadata": {},
   "source": [
    "## Part 1: Using previous 100 values as features."
   ]
  },
  {
   "attachments": {},
   "cell_type": "markdown",
   "metadata": {},
   "source": [
    "#### Creating a new dataframe where the features are the previous 100 values, and the label is the current value. Using the pandas shift() function."
   ]
  },
  {
   "cell_type": "code",
   "execution_count": 3,
   "metadata": {},
   "outputs": [
    {
     "name": "stderr",
     "output_type": "stream",
     "text": [
      "/tmp/ipykernel_1672668/3846920167.py:4: PerformanceWarning: DataFrame is highly fragmented.  This is usually the result of calling `frame.insert` many times, which has poor performance.  Consider using pd.concat instead.  To get a de-fragmented frame, use `newframe = frame.copy()`\n",
      "  df_100[f\"lag{i}\"] = df_100[\"PJMW_MW\"].shift(i)\n"
     ]
    },
    {
     "data": {
      "text/plain": [
       "(143106, 102)"
      ]
     },
     "execution_count": 3,
     "metadata": {},
     "output_type": "execute_result"
    }
   ],
   "source": [
    "df_100 = df.copy()\n",
    "\n",
    "for i in range(1, 101):\n",
    "    df_100[f\"lag{i}\"] = df_100[\"PJMW_MW\"].shift(i)\n",
    "\n",
    "# Removing the first 100 rows of the dataset\n",
    "df_100 = df_100[100:]\n",
    "\n",
    "df_100.shape"
   ]
  },
  {
   "cell_type": "code",
   "execution_count": 4,
   "metadata": {},
   "outputs": [],
   "source": [
    "df_100.drop(columns=[\"Datetime\"], inplace=True)"
   ]
  },
  {
   "attachments": {},
   "cell_type": "markdown",
   "metadata": {},
   "source": [
    "### Splitting the data into train, val, and test datasets"
   ]
  },
  {
   "cell_type": "code",
   "execution_count": 5,
   "metadata": {},
   "outputs": [],
   "source": [
    "train_df = df_100[:100174]\n",
    "val_df = df_100[100174:121640]\n",
    "test_df = df_100[121640:]\n",
    "\n",
    "X_train = train_df.drop(columns=[\"PJMW_MW\"])\n",
    "y_train = train_df[\"PJMW_MW\"]\n",
    "\n",
    "X_val = val_df.drop(columns=[\"PJMW_MW\"])\n",
    "y_val = val_df[\"PJMW_MW\"]\n",
    "\n",
    "X_test = test_df.drop(columns=[\"PJMW_MW\"])\n",
    "y_test = test_df[\"PJMW_MW\"]"
   ]
  },
  {
   "attachments": {},
   "cell_type": "markdown",
   "metadata": {},
   "source": [
    "### Standardising the datasets"
   ]
  },
  {
   "cell_type": "code",
   "execution_count": 6,
   "metadata": {},
   "outputs": [],
   "source": [
    "scaler = StandardScaler()\n",
    "\n",
    "X_train_scaled = scaler.fit_transform(X_train)\n",
    "X_val_scaled = scaler.transform(X_val)\n",
    "X_test_scaled = scaler.transform(X_test)\n",
    "\n",
    "y_train_scaled = scaler.fit_transform(y_train.values.reshape(-1, 1))\n",
    "y_val_scaled = scaler.transform(y_val.values.reshape(-1, 1))\n",
    "y_test_scaled = scaler.transform(y_test.values.reshape(-1, 1))"
   ]
  },
  {
   "attachments": {},
   "cell_type": "markdown",
   "metadata": {},
   "source": [
    "### Creating dataloader for the dataset."
   ]
  },
  {
   "cell_type": "code",
   "execution_count": 7,
   "metadata": {},
   "outputs": [],
   "source": [
    "batch_size = 64\n",
    "\n",
    "train_torch = torch.Tensor(X_train_scaled)\n",
    "val_torch = torch.Tensor(X_val_scaled)\n",
    "test_torch = torch.Tensor(X_test_scaled)\n",
    "\n",
    "y_train_torch = torch.Tensor(y_train_scaled)\n",
    "y_val_torch = torch.Tensor(y_val_scaled)\n",
    "y_test_torch = torch.Tensor(y_test_scaled)"
   ]
  },
  {
   "cell_type": "code",
   "execution_count": 8,
   "metadata": {},
   "outputs": [],
   "source": [
    "train_dataset = TensorDataset(train_torch, y_train_torch)\n",
    "val_dataset = TensorDataset(val_torch, y_val_torch)\n",
    "test_dataset = TensorDataset(test_torch, y_test_torch)\n",
    "\n",
    "train_loader = DataLoader(train_dataset, batch_size=batch_size, shuffle=False, drop_last=True)\n",
    "val_loader = DataLoader(val_dataset, batch_size=batch_size, shuffle=False, drop_last=True)\n",
    "test_loader = DataLoader(test_dataset, batch_size=batch_size, shuffle=False, drop_last=True)"
   ]
  },
  {
   "attachments": {},
   "cell_type": "markdown",
   "metadata": {},
   "source": [
    "### Defining the RNN model class."
   ]
  },
  {
   "cell_type": "code",
   "execution_count": 9,
   "metadata": {},
   "outputs": [],
   "source": [
    "class RNN(nn.Module):\n",
    "    def __init__(self, input_dim, hidden_dim, layer_dim, output_dim, dropout_prob):\n",
    "        super(RNN, self).__init__()\n",
    "\n",
    "        self.hidden_dim = hidden_dim\n",
    "        self.layer_dim = layer_dim\n",
    "\n",
    "        self.rnn = nn.RNN(input_dim, hidden_dim, layer_dim, batch_first = True, dropout=dropout_prob)\n",
    "\n",
    "        self.fc = nn.Linear(hidden_dim, output_dim)\n",
    "\n",
    "    def forward(self, x):\n",
    "        batch_size = x.size(0)\n",
    "        \n",
    "        hidden = torch.zeros(self.layer_dim, batch_size, self.hidden_dim).requires_grad_()\n",
    "\n",
    "        output, hidden = self.rnn(x, hidden.detach())  \n",
    "\n",
    "        output = output[:, -1, :]\n",
    "\n",
    "        output = self.fc(output)\n",
    "\n",
    "        return output  "
   ]
  },
  {
   "attachments": {},
   "cell_type": "markdown",
   "metadata": {},
   "source": [
    "### Creating a function to train the model."
   ]
  },
  {
   "cell_type": "code",
   "execution_count": 10,
   "metadata": {},
   "outputs": [],
   "source": [
    "def train(model, loss_func, optimiser, train_loader, val_loader, batch_size, n_epochs, n_features):\n",
    "    train_losses = []\n",
    "    val_losses = []\n",
    "    for epoch in range(1, n_epochs+1):\n",
    "        batch_losses = []\n",
    "\n",
    "        # For train dataset\n",
    "        for x_batch, y_batch in train_loader:\n",
    "            \n",
    "            x_batch = x_batch.view([batch_size, -1, n_features])#.to(device)\n",
    "            \n",
    "            y_batch = y_batch#.to(device)\n",
    "\n",
    "            optimiser.zero_grad()\n",
    "\n",
    "            model.train()\n",
    "\n",
    "            y_pred = model(x_batch)\n",
    "\n",
    "            loss = loss_func(y_batch, y_pred)\n",
    "\n",
    "            loss.backward()\n",
    "\n",
    "            optimiser.step()\n",
    "\n",
    "            batch_losses.append(loss.item())\n",
    "\n",
    "        train_loss = np.mean(batch_losses)\n",
    "        train_losses.append(train_loss)\n",
    "\n",
    "        # For validation dataset\n",
    "        with torch.no_grad():\n",
    "            batch_losses = []\n",
    "\n",
    "            for x_val, y_val in val_loader:\n",
    "                x_val = x_val.view([batch_size, -1, n_features])\n",
    "                y_val = y_val\n",
    "\n",
    "                model.eval()\n",
    "\n",
    "                y_pred = model(x_val)\n",
    "                val_loss = loss_func(y_val, y_pred)\n",
    "\n",
    "                batch_losses.append(val_loss.item())\n",
    "            val_loss = np.mean(batch_losses)\n",
    "            val_losses.append(val_loss)\n",
    "\n",
    "        if(epoch%5 == 0):\n",
    "            print(f\"Epoch {epoch}/{n_epochs}: Training loss: {train_loss:.6f}\\t Validation loss: {val_loss:.6f}\")\n",
    "\n",
    "    with plt.rc_context({'figure.figsize': (10, 8), 'font.size': 16}):\n",
    "        plt.plot(train_losses, label=\"Training loss\")\n",
    "        plt.plot(val_losses, label=\"Validation loss\")\n",
    "        plt.legend()\n",
    "        plt.xlabel(\"Epoch number\")\n",
    "        plt.ylabel(\"MSE Loss\")\n",
    "        plt.title(\"Train and Validation Losses vs Epoch Number\")\n",
    "        plt.show()\n"
   ]
  },
  {
   "attachments": {},
   "cell_type": "markdown",
   "metadata": {},
   "source": [
    "### Training the model."
   ]
  },
  {
   "cell_type": "code",
   "execution_count": 11,
   "metadata": {},
   "outputs": [],
   "source": [
    "batch_size = 64\n",
    "\n",
    "input_dim = len(X_train.columns)\n",
    "hidden_dim = 64\n",
    "output_dim = 1\n",
    "\n",
    "layer_dim = 3\n",
    "dropout = 0.2\n",
    "n_epochs = 100\n",
    "lr = 1e-3\n",
    "weight_decay = 1e-6\n",
    "\n",
    "model = RNN(input_dim=input_dim, hidden_dim=hidden_dim, layer_dim=layer_dim, output_dim=output_dim, dropout_prob=dropout)\n",
    "loss_fn = nn.MSELoss(reduction=\"mean\")\n",
    "optimiser = optim.Adam(model.parameters(), lr=lr, weight_decay=weight_decay)"
   ]
  },
  {
   "attachments": {},
   "cell_type": "markdown",
   "metadata": {},
   "source": [
    "### Training the model and plotting the learning curve."
   ]
  },
  {
   "cell_type": "code",
   "execution_count": 12,
   "metadata": {},
   "outputs": [
    {
     "name": "stderr",
     "output_type": "stream",
     "text": [
      "/home/akhil/.local/lib/python3.8/site-packages/torch/autograd/__init__.py:197: UserWarning: CUDA initialization: Unexpected error from cudaGetDeviceCount(). Did you run some cuda functions before calling NumCudaDevices() that might have already set an error? Error 804: forward compatibility was attempted on non supported HW (Triggered internally at ../c10/cuda/CUDAFunctions.cpp:109.)\n",
      "  Variable._execution_engine.run_backward(  # Calls into the C++ engine to run the backward pass\n"
     ]
    },
    {
     "name": "stdout",
     "output_type": "stream",
     "text": [
      "Epoch 5/100: Training loss: 0.044872\t Validation loss: 0.084442\n",
      "Epoch 10/100: Training loss: 0.035440\t Validation loss: 0.095345\n",
      "Epoch 15/100: Training loss: 0.031807\t Validation loss: 0.051351\n",
      "Epoch 20/100: Training loss: 0.026837\t Validation loss: 0.040431\n",
      "Epoch 25/100: Training loss: 0.025304\t Validation loss: 0.033889\n",
      "Epoch 30/100: Training loss: 0.024199\t Validation loss: 0.037578\n",
      "Epoch 35/100: Training loss: 0.022786\t Validation loss: 0.035561\n",
      "Epoch 40/100: Training loss: 0.022427\t Validation loss: 0.031447\n",
      "Epoch 45/100: Training loss: 0.021960\t Validation loss: 0.028233\n",
      "Epoch 50/100: Training loss: 0.021777\t Validation loss: 0.032589\n",
      "Epoch 55/100: Training loss: 0.021317\t Validation loss: 0.030081\n",
      "Epoch 60/100: Training loss: 0.021258\t Validation loss: 0.032000\n",
      "Epoch 65/100: Training loss: 0.020276\t Validation loss: 0.027756\n",
      "Epoch 70/100: Training loss: 0.019956\t Validation loss: 0.034250\n",
      "Epoch 75/100: Training loss: 0.019672\t Validation loss: 0.026858\n",
      "Epoch 80/100: Training loss: 0.020039\t Validation loss: 0.027594\n",
      "Epoch 85/100: Training loss: 0.019282\t Validation loss: 0.025338\n",
      "Epoch 90/100: Training loss: 0.018784\t Validation loss: 0.031286\n",
      "Epoch 95/100: Training loss: 0.018856\t Validation loss: 0.024854\n",
      "Epoch 100/100: Training loss: 0.019403\t Validation loss: 0.024906\n"
     ]
    },
    {
     "data": {
      "image/png": "[encoded data removed]",
      "text/plain": [
       "<Figure size 720x576 with 1 Axes>"
      ]
     },
     "metadata": {
      "needs_background": "light"
     },
     "output_type": "display_data"
    }
   ],
   "source": [
    "train(model=model, loss_func=loss_fn, optimiser=optimiser, train_loader=train_loader, val_loader=val_loader, batch_size=batch_size, n_epochs=n_epochs, n_features=input_dim)"
   ]
  },
  {
   "attachments": {},
   "cell_type": "markdown",
   "metadata": {},
   "source": [
    "### Evaluating the model on the test dataset"
   ]
  },
  {
   "cell_type": "code",
   "execution_count": 13,
   "metadata": {},
   "outputs": [],
   "source": [
    "def evaluate(model, test_loader, batch_size, n_features):\n",
    "    with torch.no_grad():\n",
    "        r2_scores = []\n",
    "        rmse_values = []\n",
    "        mse_values = []\n",
    "\n",
    "        for x_test, y_test in test_loader:\n",
    "            x_test = x_test.view([batch_size, -1, n_features])\n",
    "            \n",
    "            model.eval()\n",
    "\n",
    "            y_pred = model(x_test)\n",
    "\n",
    "            mse = mean_squared_error(y_pred, y_test, squared = True)\n",
    "            rmse = mean_squared_error(y_pred, y_test, squared = False)\n",
    "            r2 = r2_score(y_pred, y_test)\n",
    "\n",
    "            mse_values.append(mse)\n",
    "            rmse_values.append(rmse)\n",
    "            r2_scores.append(r2)\n",
    "\n",
    "    avg_mse = sum(mse_values)/len(mse_values)\n",
    "    avg_rmse = sum(rmse_values)/len(rmse_values)\n",
    "    avg_r2 = sum(r2_scores)/len(r2_scores)\n",
    "\n",
    "    print(\"EVALUATION RESULTS ON THE TEST DATASET:\\n\")\n",
    "    print(f\"Mean Squared Error: {avg_mse:.4f}\\n\")\n",
    "    print(f\"Root Mean Squared Error: {avg_rmse:.4f}\\n\")\n",
    "    print(f\"R2 score: {avg_r2:.4f}\")"
   ]
  },
  {
   "cell_type": "code",
   "execution_count": 14,
   "metadata": {},
   "outputs": [
    {
     "name": "stdout",
     "output_type": "stream",
     "text": [
      "EVALUATION RESULTS ON THE TEST DATASET:\n",
      "\n",
      "Mean Squared Error: 0.0213\n",
      "\n",
      "Root Mean Squared Error: 0.1346\n",
      "\n",
      "R2 score: 0.9505\n"
     ]
    }
   ],
   "source": [
    "evaluate(model=model, test_loader=test_loader, batch_size=batch_size, n_features=input_dim)"
   ]
  },
  {
   "attachments": {},
   "cell_type": "markdown",
   "metadata": {},
   "source": [
    "### Part 2: Using date and time as features instead of previous values."
   ]
  },
  {
   "cell_type": "code",
   "execution_count": 53,
   "metadata": {},
   "outputs": [],
   "source": [
    "df_time = df.copy()"
   ]
  },
  {
   "attachments": {},
   "cell_type": "markdown",
   "metadata": {},
   "source": [
    "#### Creating date time features"
   ]
  },
  {
   "cell_type": "code",
   "execution_count": 54,
   "metadata": {},
   "outputs": [
    {
     "data": {
      "text/html": [
       "<div>\n",
       "<style scoped>\n",
       "    .dataframe tbody tr th:only-of-type {\n",
       "        vertical-align: middle;\n",
       "    }\n",
       "\n",
       "    .dataframe tbody tr th {\n",
       "        vertical-align: top;\n",
       "    }\n",
       "\n",
       "    .dataframe thead th {\n",
       "        text-align: right;\n",
       "    }\n",
       "</style>\n",
       "<table border=\"1\" class=\"dataframe\">\n",
       "  <thead>\n",
       "    <tr style=\"text-align: right;\">\n",
       "      <th></th>\n",
       "      <th>Datetime</th>\n",
       "      <th>PJMW_MW</th>\n",
       "      <th>month</th>\n",
       "      <th>year</th>\n",
       "      <th>day_of_month</th>\n",
       "      <th>day_of_week</th>\n",
       "      <th>hours</th>\n",
       "      <th>week_of_year</th>\n",
       "    </tr>\n",
       "  </thead>\n",
       "  <tbody>\n",
       "    <tr>\n",
       "      <th>0</th>\n",
       "      <td>2002-12-31 01:00:00</td>\n",
       "      <td>5077.0</td>\n",
       "      <td>12</td>\n",
       "      <td>2002</td>\n",
       "      <td>31</td>\n",
       "      <td>1</td>\n",
       "      <td>1</td>\n",
       "      <td>1</td>\n",
       "    </tr>\n",
       "    <tr>\n",
       "      <th>1</th>\n",
       "      <td>2002-12-31 02:00:00</td>\n",
       "      <td>4939.0</td>\n",
       "      <td>12</td>\n",
       "      <td>2002</td>\n",
       "      <td>31</td>\n",
       "      <td>1</td>\n",
       "      <td>2</td>\n",
       "      <td>1</td>\n",
       "    </tr>\n",
       "    <tr>\n",
       "      <th>2</th>\n",
       "      <td>2002-12-31 03:00:00</td>\n",
       "      <td>4885.0</td>\n",
       "      <td>12</td>\n",
       "      <td>2002</td>\n",
       "      <td>31</td>\n",
       "      <td>1</td>\n",
       "      <td>3</td>\n",
       "      <td>1</td>\n",
       "    </tr>\n",
       "    <tr>\n",
       "      <th>3</th>\n",
       "      <td>2002-12-31 04:00:00</td>\n",
       "      <td>4857.0</td>\n",
       "      <td>12</td>\n",
       "      <td>2002</td>\n",
       "      <td>31</td>\n",
       "      <td>1</td>\n",
       "      <td>4</td>\n",
       "      <td>1</td>\n",
       "    </tr>\n",
       "    <tr>\n",
       "      <th>4</th>\n",
       "      <td>2002-12-31 05:00:00</td>\n",
       "      <td>4930.0</td>\n",
       "      <td>12</td>\n",
       "      <td>2002</td>\n",
       "      <td>31</td>\n",
       "      <td>1</td>\n",
       "      <td>5</td>\n",
       "      <td>1</td>\n",
       "    </tr>\n",
       "    <tr>\n",
       "      <th>...</th>\n",
       "      <td>...</td>\n",
       "      <td>...</td>\n",
       "      <td>...</td>\n",
       "      <td>...</td>\n",
       "      <td>...</td>\n",
       "      <td>...</td>\n",
       "      <td>...</td>\n",
       "      <td>...</td>\n",
       "    </tr>\n",
       "    <tr>\n",
       "      <th>143201</th>\n",
       "      <td>2018-01-01 20:00:00</td>\n",
       "      <td>8401.0</td>\n",
       "      <td>1</td>\n",
       "      <td>2018</td>\n",
       "      <td>1</td>\n",
       "      <td>0</td>\n",
       "      <td>20</td>\n",
       "      <td>1</td>\n",
       "    </tr>\n",
       "    <tr>\n",
       "      <th>143202</th>\n",
       "      <td>2018-01-01 21:00:00</td>\n",
       "      <td>8373.0</td>\n",
       "      <td>1</td>\n",
       "      <td>2018</td>\n",
       "      <td>1</td>\n",
       "      <td>0</td>\n",
       "      <td>21</td>\n",
       "      <td>1</td>\n",
       "    </tr>\n",
       "    <tr>\n",
       "      <th>143203</th>\n",
       "      <td>2018-01-01 22:00:00</td>\n",
       "      <td>8238.0</td>\n",
       "      <td>1</td>\n",
       "      <td>2018</td>\n",
       "      <td>1</td>\n",
       "      <td>0</td>\n",
       "      <td>22</td>\n",
       "      <td>1</td>\n",
       "    </tr>\n",
       "    <tr>\n",
       "      <th>143204</th>\n",
       "      <td>2018-01-01 23:00:00</td>\n",
       "      <td>7958.0</td>\n",
       "      <td>1</td>\n",
       "      <td>2018</td>\n",
       "      <td>1</td>\n",
       "      <td>0</td>\n",
       "      <td>23</td>\n",
       "      <td>1</td>\n",
       "    </tr>\n",
       "    <tr>\n",
       "      <th>143205</th>\n",
       "      <td>2018-01-02 00:00:00</td>\n",
       "      <td>7691.0</td>\n",
       "      <td>1</td>\n",
       "      <td>2018</td>\n",
       "      <td>2</td>\n",
       "      <td>1</td>\n",
       "      <td>0</td>\n",
       "      <td>1</td>\n",
       "    </tr>\n",
       "  </tbody>\n",
       "</table>\n",
       "<p>143206 rows × 8 columns</p>\n",
       "</div>"
      ],
      "text/plain": [
       "                  Datetime  PJMW_MW  month  year  day_of_month  day_of_week  \\\n",
       "0      2002-12-31 01:00:00   5077.0     12  2002            31            1   \n",
       "1      2002-12-31 02:00:00   4939.0     12  2002            31            1   \n",
       "2      2002-12-31 03:00:00   4885.0     12  2002            31            1   \n",
       "3      2002-12-31 04:00:00   4857.0     12  2002            31            1   \n",
       "4      2002-12-31 05:00:00   4930.0     12  2002            31            1   \n",
       "...                    ...      ...    ...   ...           ...          ...   \n",
       "143201 2018-01-01 20:00:00   8401.0      1  2018             1            0   \n",
       "143202 2018-01-01 21:00:00   8373.0      1  2018             1            0   \n",
       "143203 2018-01-01 22:00:00   8238.0      1  2018             1            0   \n",
       "143204 2018-01-01 23:00:00   7958.0      1  2018             1            0   \n",
       "143205 2018-01-02 00:00:00   7691.0      1  2018             2            1   \n",
       "\n",
       "        hours  week_of_year  \n",
       "0           1             1  \n",
       "1           2             1  \n",
       "2           3             1  \n",
       "3           4             1  \n",
       "4           5             1  \n",
       "...       ...           ...  \n",
       "143201     20             1  \n",
       "143202     21             1  \n",
       "143203     22             1  \n",
       "143204     23             1  \n",
       "143205      0             1  \n",
       "\n",
       "[143206 rows x 8 columns]"
      ]
     },
     "execution_count": 54,
     "metadata": {},
     "output_type": "execute_result"
    }
   ],
   "source": [
    "df_time[\"Datetime\"] = pd.to_datetime(df[\"Datetime\"])\n",
    "\n",
    "df_time[\"month\"] = df_time[\"Datetime\"].dt.month\n",
    "df_time[\"year\"] = df_time[\"Datetime\"].dt.year\n",
    "df_time[\"day_of_month\"] = df_time[\"Datetime\"].dt.day\n",
    "df_time[\"day_of_week\"] = df_time[\"Datetime\"].dt.day_of_week\n",
    "df_time[\"hours\"] = df_time[\"Datetime\"].dt.hour\n",
    "df_time[\"week_of_year\"] = df_time[\"Datetime\"].dt.isocalendar().week\n",
    "\n",
    "df_time"
   ]
  },
  {
   "attachments": {},
   "cell_type": "markdown",
   "metadata": {},
   "source": [
    "### Adding a column to account for holidays."
   ]
  },
  {
   "cell_type": "code",
   "execution_count": 55,
   "metadata": {},
   "outputs": [
    {
     "data": {
      "text/html": [
       "<div>\n",
       "<style scoped>\n",
       "    .dataframe tbody tr th:only-of-type {\n",
       "        vertical-align: middle;\n",
       "    }\n",
       "\n",
       "    .dataframe tbody tr th {\n",
       "        vertical-align: top;\n",
       "    }\n",
       "\n",
       "    .dataframe thead th {\n",
       "        text-align: right;\n",
       "    }\n",
       "</style>\n",
       "<table border=\"1\" class=\"dataframe\">\n",
       "  <thead>\n",
       "    <tr style=\"text-align: right;\">\n",
       "      <th></th>\n",
       "      <th>Datetime</th>\n",
       "      <th>PJMW_MW</th>\n",
       "      <th>month</th>\n",
       "      <th>year</th>\n",
       "      <th>day_of_month</th>\n",
       "      <th>day_of_week</th>\n",
       "      <th>hours</th>\n",
       "      <th>week_of_year</th>\n",
       "      <th>is_holiday</th>\n",
       "    </tr>\n",
       "  </thead>\n",
       "  <tbody>\n",
       "    <tr>\n",
       "      <th>0</th>\n",
       "      <td>2002-12-31 01:00:00</td>\n",
       "      <td>5077.0</td>\n",
       "      <td>12</td>\n",
       "      <td>2002</td>\n",
       "      <td>31</td>\n",
       "      <td>1</td>\n",
       "      <td>1</td>\n",
       "      <td>1</td>\n",
       "      <td>0</td>\n",
       "    </tr>\n",
       "    <tr>\n",
       "      <th>1</th>\n",
       "      <td>2002-12-31 02:00:00</td>\n",
       "      <td>4939.0</td>\n",
       "      <td>12</td>\n",
       "      <td>2002</td>\n",
       "      <td>31</td>\n",
       "      <td>1</td>\n",
       "      <td>2</td>\n",
       "      <td>1</td>\n",
       "      <td>0</td>\n",
       "    </tr>\n",
       "    <tr>\n",
       "      <th>2</th>\n",
       "      <td>2002-12-31 03:00:00</td>\n",
       "      <td>4885.0</td>\n",
       "      <td>12</td>\n",
       "      <td>2002</td>\n",
       "      <td>31</td>\n",
       "      <td>1</td>\n",
       "      <td>3</td>\n",
       "      <td>1</td>\n",
       "      <td>0</td>\n",
       "    </tr>\n",
       "    <tr>\n",
       "      <th>3</th>\n",
       "      <td>2002-12-31 04:00:00</td>\n",
       "      <td>4857.0</td>\n",
       "      <td>12</td>\n",
       "      <td>2002</td>\n",
       "      <td>31</td>\n",
       "      <td>1</td>\n",
       "      <td>4</td>\n",
       "      <td>1</td>\n",
       "      <td>0</td>\n",
       "    </tr>\n",
       "    <tr>\n",
       "      <th>4</th>\n",
       "      <td>2002-12-31 05:00:00</td>\n",
       "      <td>4930.0</td>\n",
       "      <td>12</td>\n",
       "      <td>2002</td>\n",
       "      <td>31</td>\n",
       "      <td>1</td>\n",
       "      <td>5</td>\n",
       "      <td>1</td>\n",
       "      <td>0</td>\n",
       "    </tr>\n",
       "    <tr>\n",
       "      <th>...</th>\n",
       "      <td>...</td>\n",
       "      <td>...</td>\n",
       "      <td>...</td>\n",
       "      <td>...</td>\n",
       "      <td>...</td>\n",
       "      <td>...</td>\n",
       "      <td>...</td>\n",
       "      <td>...</td>\n",
       "      <td>...</td>\n",
       "    </tr>\n",
       "    <tr>\n",
       "      <th>143201</th>\n",
       "      <td>2018-01-01 20:00:00</td>\n",
       "      <td>8401.0</td>\n",
       "      <td>1</td>\n",
       "      <td>2018</td>\n",
       "      <td>1</td>\n",
       "      <td>0</td>\n",
       "      <td>20</td>\n",
       "      <td>1</td>\n",
       "      <td>0</td>\n",
       "    </tr>\n",
       "    <tr>\n",
       "      <th>143202</th>\n",
       "      <td>2018-01-01 21:00:00</td>\n",
       "      <td>8373.0</td>\n",
       "      <td>1</td>\n",
       "      <td>2018</td>\n",
       "      <td>1</td>\n",
       "      <td>0</td>\n",
       "      <td>21</td>\n",
       "      <td>1</td>\n",
       "      <td>0</td>\n",
       "    </tr>\n",
       "    <tr>\n",
       "      <th>143203</th>\n",
       "      <td>2018-01-01 22:00:00</td>\n",
       "      <td>8238.0</td>\n",
       "      <td>1</td>\n",
       "      <td>2018</td>\n",
       "      <td>1</td>\n",
       "      <td>0</td>\n",
       "      <td>22</td>\n",
       "      <td>1</td>\n",
       "      <td>0</td>\n",
       "    </tr>\n",
       "    <tr>\n",
       "      <th>143204</th>\n",
       "      <td>2018-01-01 23:00:00</td>\n",
       "      <td>7958.0</td>\n",
       "      <td>1</td>\n",
       "      <td>2018</td>\n",
       "      <td>1</td>\n",
       "      <td>0</td>\n",
       "      <td>23</td>\n",
       "      <td>1</td>\n",
       "      <td>0</td>\n",
       "    </tr>\n",
       "    <tr>\n",
       "      <th>143205</th>\n",
       "      <td>2018-01-02 00:00:00</td>\n",
       "      <td>7691.0</td>\n",
       "      <td>1</td>\n",
       "      <td>2018</td>\n",
       "      <td>2</td>\n",
       "      <td>1</td>\n",
       "      <td>0</td>\n",
       "      <td>1</td>\n",
       "      <td>0</td>\n",
       "    </tr>\n",
       "  </tbody>\n",
       "</table>\n",
       "<p>143206 rows × 9 columns</p>\n",
       "</div>"
      ],
      "text/plain": [
       "                  Datetime  PJMW_MW  month  year  day_of_month  day_of_week  \\\n",
       "0      2002-12-31 01:00:00   5077.0     12  2002            31            1   \n",
       "1      2002-12-31 02:00:00   4939.0     12  2002            31            1   \n",
       "2      2002-12-31 03:00:00   4885.0     12  2002            31            1   \n",
       "3      2002-12-31 04:00:00   4857.0     12  2002            31            1   \n",
       "4      2002-12-31 05:00:00   4930.0     12  2002            31            1   \n",
       "...                    ...      ...    ...   ...           ...          ...   \n",
       "143201 2018-01-01 20:00:00   8401.0      1  2018             1            0   \n",
       "143202 2018-01-01 21:00:00   8373.0      1  2018             1            0   \n",
       "143203 2018-01-01 22:00:00   8238.0      1  2018             1            0   \n",
       "143204 2018-01-01 23:00:00   7958.0      1  2018             1            0   \n",
       "143205 2018-01-02 00:00:00   7691.0      1  2018             2            1   \n",
       "\n",
       "        hours  week_of_year  is_holiday  \n",
       "0           1             1           0  \n",
       "1           2             1           0  \n",
       "2           3             1           0  \n",
       "3           4             1           0  \n",
       "4           5             1           0  \n",
       "...       ...           ...         ...  \n",
       "143201     20             1           0  \n",
       "143202     21             1           0  \n",
       "143203     22             1           0  \n",
       "143204     23             1           0  \n",
       "143205      0             1           0  \n",
       "\n",
       "[143206 rows x 9 columns]"
      ]
     },
     "execution_count": 55,
     "metadata": {},
     "output_type": "execute_result"
    }
   ],
   "source": [
    "holidays_ind = []\n",
    "for year in range(2002, 2019):\n",
    "    holidays_ind.extend(holidays.India(years=year))\n",
    "\n",
    "df_time[\"is_holiday\"] = df_time[\"Datetime\"].dt.date.astype(\"datetime64\").isin(holidays_ind).astype(int)\n",
    "\n",
    "df_time"
   ]
  },
  {
   "attachments": {},
   "cell_type": "markdown",
   "metadata": {},
   "source": [
    "### For features which have periodic features, it is better to have the sine of those features instead of the actual values."
   ]
  },
  {
   "cell_type": "code",
   "execution_count": 56,
   "metadata": {},
   "outputs": [],
   "source": [
    "df_time[\"month_sin\"] = np.sin((2*np.pi*df_time[\"month\"])/12)\n",
    "df_time[\"day_of_week_sin\"] = np.sin((2*np.pi*df_time[\"day_of_week\"])/7)\n",
    "df_time[\"day_of_month_sin\"] = np.sin((2*np.pi*df_time[\"day_of_month\"])/31)\n",
    "df_time[\"hours_sin\"] = np.sin((2*np.pi*df_time[\"hours\"])/24)\n",
    "df_time[\"week_of_year_sin\"] = np.sin((2*np.pi*df_time[\"week_of_year\"])/53)\n",
    "\n",
    "df_time.drop(columns=[\"day_of_month\", \"day_of_week\", \"hours\", \"week_of_year\", \"month\", \"Datetime\"], inplace=True)"
   ]
  },
  {
   "cell_type": "code",
   "execution_count": 57,
   "metadata": {},
   "outputs": [
    {
     "data": {
      "text/html": [
       "<div>\n",
       "<style scoped>\n",
       "    .dataframe tbody tr th:only-of-type {\n",
       "        vertical-align: middle;\n",
       "    }\n",
       "\n",
       "    .dataframe tbody tr th {\n",
       "        vertical-align: top;\n",
       "    }\n",
       "\n",
       "    .dataframe thead th {\n",
       "        text-align: right;\n",
       "    }\n",
       "</style>\n",
       "<table border=\"1\" class=\"dataframe\">\n",
       "  <thead>\n",
       "    <tr style=\"text-align: right;\">\n",
       "      <th></th>\n",
       "      <th>PJMW_MW</th>\n",
       "      <th>year</th>\n",
       "      <th>is_holiday</th>\n",
       "      <th>month_sin</th>\n",
       "      <th>day_of_week_sin</th>\n",
       "      <th>day_of_month_sin</th>\n",
       "      <th>hours_sin</th>\n",
       "      <th>week_of_year_sin</th>\n",
       "    </tr>\n",
       "  </thead>\n",
       "  <tbody>\n",
       "    <tr>\n",
       "      <th>0</th>\n",
       "      <td>5077.0</td>\n",
       "      <td>-1.674020</td>\n",
       "      <td>0</td>\n",
       "      <td>-2.449294e-16</td>\n",
       "      <td>0.781831</td>\n",
       "      <td>-2.449294e-16</td>\n",
       "      <td>0.258819</td>\n",
       "      <td>0.118273</td>\n",
       "    </tr>\n",
       "    <tr>\n",
       "      <th>1</th>\n",
       "      <td>4939.0</td>\n",
       "      <td>-1.674020</td>\n",
       "      <td>0</td>\n",
       "      <td>-2.449294e-16</td>\n",
       "      <td>0.781831</td>\n",
       "      <td>-2.449294e-16</td>\n",
       "      <td>0.500000</td>\n",
       "      <td>0.118273</td>\n",
       "    </tr>\n",
       "    <tr>\n",
       "      <th>2</th>\n",
       "      <td>4885.0</td>\n",
       "      <td>-1.674020</td>\n",
       "      <td>0</td>\n",
       "      <td>-2.449294e-16</td>\n",
       "      <td>0.781831</td>\n",
       "      <td>-2.449294e-16</td>\n",
       "      <td>0.707107</td>\n",
       "      <td>0.118273</td>\n",
       "    </tr>\n",
       "    <tr>\n",
       "      <th>3</th>\n",
       "      <td>4857.0</td>\n",
       "      <td>-1.674020</td>\n",
       "      <td>0</td>\n",
       "      <td>-2.449294e-16</td>\n",
       "      <td>0.781831</td>\n",
       "      <td>-2.449294e-16</td>\n",
       "      <td>0.866025</td>\n",
       "      <td>0.118273</td>\n",
       "    </tr>\n",
       "    <tr>\n",
       "      <th>4</th>\n",
       "      <td>4930.0</td>\n",
       "      <td>-1.674020</td>\n",
       "      <td>0</td>\n",
       "      <td>-2.449294e-16</td>\n",
       "      <td>0.781831</td>\n",
       "      <td>-2.449294e-16</td>\n",
       "      <td>0.965926</td>\n",
       "      <td>0.118273</td>\n",
       "    </tr>\n",
       "    <tr>\n",
       "      <th>...</th>\n",
       "      <td>...</td>\n",
       "      <td>...</td>\n",
       "      <td>...</td>\n",
       "      <td>...</td>\n",
       "      <td>...</td>\n",
       "      <td>...</td>\n",
       "      <td>...</td>\n",
       "      <td>...</td>\n",
       "    </tr>\n",
       "    <tr>\n",
       "      <th>143201</th>\n",
       "      <td>8401.0</td>\n",
       "      <td>1.708398</td>\n",
       "      <td>0</td>\n",
       "      <td>5.000000e-01</td>\n",
       "      <td>0.000000</td>\n",
       "      <td>2.012985e-01</td>\n",
       "      <td>-0.866025</td>\n",
       "      <td>0.118273</td>\n",
       "    </tr>\n",
       "    <tr>\n",
       "      <th>143202</th>\n",
       "      <td>8373.0</td>\n",
       "      <td>1.708398</td>\n",
       "      <td>0</td>\n",
       "      <td>5.000000e-01</td>\n",
       "      <td>0.000000</td>\n",
       "      <td>2.012985e-01</td>\n",
       "      <td>-0.707107</td>\n",
       "      <td>0.118273</td>\n",
       "    </tr>\n",
       "    <tr>\n",
       "      <th>143203</th>\n",
       "      <td>8238.0</td>\n",
       "      <td>1.708398</td>\n",
       "      <td>0</td>\n",
       "      <td>5.000000e-01</td>\n",
       "      <td>0.000000</td>\n",
       "      <td>2.012985e-01</td>\n",
       "      <td>-0.500000</td>\n",
       "      <td>0.118273</td>\n",
       "    </tr>\n",
       "    <tr>\n",
       "      <th>143204</th>\n",
       "      <td>7958.0</td>\n",
       "      <td>1.708398</td>\n",
       "      <td>0</td>\n",
       "      <td>5.000000e-01</td>\n",
       "      <td>0.000000</td>\n",
       "      <td>2.012985e-01</td>\n",
       "      <td>-0.258819</td>\n",
       "      <td>0.118273</td>\n",
       "    </tr>\n",
       "    <tr>\n",
       "      <th>143205</th>\n",
       "      <td>7691.0</td>\n",
       "      <td>1.708398</td>\n",
       "      <td>0</td>\n",
       "      <td>5.000000e-01</td>\n",
       "      <td>0.781831</td>\n",
       "      <td>3.943559e-01</td>\n",
       "      <td>0.000000</td>\n",
       "      <td>0.118273</td>\n",
       "    </tr>\n",
       "  </tbody>\n",
       "</table>\n",
       "<p>143206 rows × 8 columns</p>\n",
       "</div>"
      ],
      "text/plain": [
       "        PJMW_MW      year  is_holiday     month_sin  day_of_week_sin  \\\n",
       "0        5077.0 -1.674020           0 -2.449294e-16         0.781831   \n",
       "1        4939.0 -1.674020           0 -2.449294e-16         0.781831   \n",
       "2        4885.0 -1.674020           0 -2.449294e-16         0.781831   \n",
       "3        4857.0 -1.674020           0 -2.449294e-16         0.781831   \n",
       "4        4930.0 -1.674020           0 -2.449294e-16         0.781831   \n",
       "...         ...       ...         ...           ...              ...   \n",
       "143201   8401.0  1.708398           0  5.000000e-01         0.000000   \n",
       "143202   8373.0  1.708398           0  5.000000e-01         0.000000   \n",
       "143203   8238.0  1.708398           0  5.000000e-01         0.000000   \n",
       "143204   7958.0  1.708398           0  5.000000e-01         0.000000   \n",
       "143205   7691.0  1.708398           0  5.000000e-01         0.781831   \n",
       "\n",
       "        day_of_month_sin  hours_sin  week_of_year_sin  \n",
       "0          -2.449294e-16   0.258819          0.118273  \n",
       "1          -2.449294e-16   0.500000          0.118273  \n",
       "2          -2.449294e-16   0.707107          0.118273  \n",
       "3          -2.449294e-16   0.866025          0.118273  \n",
       "4          -2.449294e-16   0.965926          0.118273  \n",
       "...                  ...        ...               ...  \n",
       "143201      2.012985e-01  -0.866025          0.118273  \n",
       "143202      2.012985e-01  -0.707107          0.118273  \n",
       "143203      2.012985e-01  -0.500000          0.118273  \n",
       "143204      2.012985e-01  -0.258819          0.118273  \n",
       "143205      3.943559e-01   0.000000          0.118273  \n",
       "\n",
       "[143206 rows x 8 columns]"
      ]
     },
     "execution_count": 57,
     "metadata": {},
     "output_type": "execute_result"
    }
   ],
   "source": [
    "# Standardising the year column\n",
    "avg = df_time[\"year\"].mean()\n",
    "std = df_time[\"year\"].std()\n",
    "\n",
    "df_time[\"year\"] = (df_time[\"year\"] - avg)/std\n",
    "\n",
    "df_time"
   ]
  },
  {
   "attachments": {},
   "cell_type": "markdown",
   "metadata": {},
   "source": [
    "#### Splitting the data into train, val and test datasets."
   ]
  },
  {
   "cell_type": "code",
   "execution_count": 58,
   "metadata": {},
   "outputs": [],
   "source": [
    "train_df = df_time[:100244]\n",
    "val_df = df_time[100244:121725]\n",
    "test_df = df_time[121725:]\n",
    "\n",
    "X_train = train_df.drop(columns=[\"PJMW_MW\"])\n",
    "y_train = train_df[\"PJMW_MW\"]\n",
    "\n",
    "X_val = val_df.drop(columns=[\"PJMW_MW\"])\n",
    "y_val = val_df[\"PJMW_MW\"]\n",
    "\n",
    "X_test = test_df.drop(columns=[\"PJMW_MW\"])\n",
    "y_test = test_df[\"PJMW_MW\"]"
   ]
  },
  {
   "attachments": {},
   "cell_type": "markdown",
   "metadata": {},
   "source": [
    "### Creating tensor datasets and loading them into dataloaders."
   ]
  },
  {
   "cell_type": "code",
   "execution_count": 59,
   "metadata": {},
   "outputs": [],
   "source": [
    "batch_size = 64\n",
    "\n",
    "input_dim = X_train.shape[1]\n",
    "hidden_dim = 64\n",
    "output_dim = 1\n",
    "\n",
    "layer_dim = 3\n",
    "dropout = 0.2\n",
    "n_epochs = 50\n",
    "lr = 1e-1\n",
    "weight_decay = 1e-6\n",
    "\n",
    "model = RNN(input_dim=input_dim, hidden_dim=hidden_dim, layer_dim=layer_dim, output_dim=output_dim, dropout_prob=dropout)\n",
    "loss_fn = nn.MSELoss(reduction=\"mean\")\n",
    "optimiser = optim.Adam(model.parameters(), lr=lr, weight_decay=weight_decay)"
   ]
  },
  {
   "cell_type": "code",
   "execution_count": 60,
   "metadata": {},
   "outputs": [],
   "source": [
    "train_torch = torch.Tensor(X_train.values.astype(\"float64\"))\n",
    "val_torch = torch.Tensor(X_val.values.astype(\"float64\"))\n",
    "test_torch = torch.Tensor(X_test.values.astype(\"float64\"))\n",
    "\n",
    "y_train_torch = torch.Tensor(y_train.values.astype(\"float64\"))\n",
    "y_val_torch = torch.Tensor(y_val.values.astype(\"float64\"))\n",
    "y_test_torch = torch.Tensor(y_test.values.astype(\"float64\"))"
   ]
  },
  {
   "cell_type": "code",
   "execution_count": 61,
   "metadata": {},
   "outputs": [],
   "source": [
    "train_dataset = TensorDataset(train_torch, y_train_torch)\n",
    "val_dataset = TensorDataset(val_torch, y_val_torch)\n",
    "test_dataset = TensorDataset(test_torch, y_test_torch)\n",
    "\n",
    "train_loader = DataLoader(train_dataset, batch_size=batch_size, shuffle=False, drop_last=True)\n",
    "val_loader = DataLoader(val_dataset, batch_size=batch_size, shuffle=False, drop_last=True)\n",
    "test_loader = DataLoader(test_dataset, batch_size=batch_size, shuffle=False, drop_last=True)"
   ]
  },
  {
   "attachments": {},
   "cell_type": "markdown",
   "metadata": {},
   "source": [
    "### Training the model."
   ]
  },
  {
   "cell_type": "code",
   "execution_count": 62,
   "metadata": {},
   "outputs": [
    {
     "name": "stderr",
     "output_type": "stream",
     "text": [
      "/home/akhil/.local/lib/python3.8/site-packages/torch/nn/modules/loss.py:536: UserWarning: Using a target size (torch.Size([64, 1])) that is different to the input size (torch.Size([64])). This will likely lead to incorrect results due to broadcasting. Please ensure they have the same size.\n",
      "  return F.mse_loss(input, target, reduction=self.reduction)\n"
     ]
    },
    {
     "name": "stdout",
     "output_type": "stream",
     "text": [
      "Epoch 5/50: Training loss: 925907.404798\t Validation loss: 1131665.044263\n",
      "Epoch 10/50: Training loss: 926033.822528\t Validation loss: 1131767.851446\n",
      "Epoch 15/50: Training loss: 926083.747555\t Validation loss: 1131772.110728\n",
      "Epoch 20/50: Training loss: 925544.522739\t Validation loss: 1131261.344170\n",
      "Epoch 25/50: Training loss: 927028.030686\t Validation loss: 1132095.000886\n",
      "Epoch 30/50: Training loss: 925825.401710\t Validation loss: 1145897.869496\n",
      "Epoch 35/50: Training loss: 930206.245141\t Validation loss: 1129762.964132\n",
      "Epoch 40/50: Training loss: 945699.619298\t Validation loss: 1185186.322854\n",
      "Epoch 45/50: Training loss: 941582.028017\t Validation loss: 1151701.089785\n",
      "Epoch 50/50: Training loss: 926108.824363\t Validation loss: 1132072.768004\n"
     ]
    },
    {
     "data": {
      "image/png": "[encoded data removed]",
      "text/plain": [
       "<Figure size 720x576 with 1 Axes>"
      ]
     },
     "metadata": {
      "needs_background": "light"
     },
     "output_type": "display_data"
    }
   ],
   "source": [
    "train(model=model, loss_func=loss_fn, optimiser=optimiser, train_loader=train_loader, val_loader=val_loader, batch_size=batch_size, n_epochs=n_epochs, n_features=input_dim)"
   ]
  },
  {
   "attachments": {},
   "cell_type": "markdown",
   "metadata": {},
   "source": [
    "### Evaluating the model on the test dataset."
   ]
  },
  {
   "cell_type": "code",
   "execution_count": 63,
   "metadata": {},
   "outputs": [
    {
     "name": "stdout",
     "output_type": "stream",
     "text": [
      "EVALUATION RESULTS ON THE TEST DATASET:\n",
      "\n",
      "Mean Squared Error: 1036610.9458\n",
      "\n",
      "Root Mean Squared Error: 942.7967\n",
      "\n",
      "R2 score: 0.0000\n"
     ]
    }
   ],
   "source": [
    "evaluate(model=model, test_loader=test_loader, batch_size=batch_size, n_features=input_dim)"
   ]
  },
  {
   "attachments": {},
   "cell_type": "markdown",
   "metadata": {},
   "source": [
    "### Comparision of test results of the RNN model on both datasets."
   ]
  },
  {
   "attachments": {},
   "cell_type": "markdown",
   "metadata": {},
   "source": [
    "#### It is observed that for the training of RNN on the dataset which had previous 100 values as features, the following were the results on the test dataset:\n",
    "\n",
    "Mean Squared Error: 0.0213\n",
    "\n",
    "Root Mean Squared Error: 0.1346\n",
    "\n",
    "R2 score: 0.9505\n",
    "\n",
    "#### For the dataset which had only year, day of week, day of month, week of year, and hours as features, the following were the results on the test dataset:\n",
    "\n",
    "Mean Squared Error: 1036610.9458\n",
    "\n",
    "Root Mean Squared Error: 942.7967\n",
    "\n",
    "R2 score: 0.0000\n",
    "\n",
    "#### Clearly the first feature engineering method yielded better results than the second feature engineering method. Also it should be observed that for second method, an abnormally low accuracy was reported from which we can hypothesise that something is wrong with the method and further feature engineering is needed for it to reach any further conclusions."
   ]
  }
 ],
 "metadata": {
  "kernelspec": {
   "display_name": "Python 3",
   "language": "python",
   "name": "python3"
  },
  "language_info": {
   "codemirror_mode": {
    "name": "ipython",
    "version": 3
   },
   "file_extension": ".py",
   "mimetype": "text/x-python",
   "name": "python",
   "nbconvert_exporter": "python",
   "pygments_lexer": "ipython3",
   "version": "3.8.10"
  },
  "orig_nbformat": 4
 },
 "nbformat": 4,
 "nbformat_minor": 2
}
