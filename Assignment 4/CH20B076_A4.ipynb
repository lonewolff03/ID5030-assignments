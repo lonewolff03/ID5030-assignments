{
 "cells": [
  {
   "attachments": {},
   "cell_type": "markdown",
   "metadata": {},
   "source": [
    "# ID5030 Assignment - 4\n",
    "\n",
    "### Logistic Regression and Multiclass Classification    \n",
    "By: P Akhil Reddy    \n",
    "Roll No. CH20B076"
   ]
  },
  {
   "cell_type": "code",
   "execution_count": 1,
   "metadata": {},
   "outputs": [],
   "source": [
    "import numpy as np\n",
    "import pandas as pd\n",
    "\n",
    "import matplotlib as mpl\n",
    "import matplotlib.pyplot as plt\n",
    "import seaborn as sns\n",
    "\n",
    "from sklearn.model_selection import train_test_split"
   ]
  },
  {
   "attachments": {},
   "cell_type": "markdown",
   "metadata": {},
   "source": [
    "### Question 1 - a: logistic regression for the OR gate"
   ]
  },
  {
   "attachments": {},
   "cell_type": "markdown",
   "metadata": {},
   "source": [
    "##### Creating the custom dataset for OR gate"
   ]
  },
  {
   "cell_type": "code",
   "execution_count": 2,
   "metadata": {},
   "outputs": [],
   "source": [
    "# First column is for representing the bias term\n",
    "X_or = np.array([[1, 0, 0],\n",
    "             [1, 1, 0],\n",
    "             [1, 0, 1],\n",
    "             [1, 1, 1]])\n",
    "\n",
    "y_or = np.array([[0], [1], [1], [1]])"
   ]
  },
  {
   "cell_type": "code",
   "execution_count": 3,
   "metadata": {},
   "outputs": [],
   "source": [
    "def sigmoid(x):\n",
    "    # Sigmoid function\n",
    "    return 1/(1 + np.exp(-x))\n",
    "\n",
    "def predict(X, weights, predict_class=True):\n",
    "    # Predicts the class based on given weights and inputs\n",
    "    Z = X@weights\n",
    "    sig = sigmoid(Z)\n",
    "\n",
    "    if predict_class:\n",
    "        # Here the prediction will be 1 if the score given by the model is above 0.5 else it will be 0\n",
    "        pred = np.where(sig > 0.5, 1, 0)\n",
    "\n",
    "        return pred\n",
    "    \n",
    "    return sig\n",
    "\n",
    "def cost_function(y, y_hat):\n",
    "    # Loss function for logistic regression\n",
    "    return -np.mean(y*np.log(y_hat) + (1 - y)*np.log(1 - y_hat))"
   ]
  },
  {
   "attachments": {},
   "cell_type": "markdown",
   "metadata": {},
   "source": [
    "Training the logistic regression model on the OR gate's truth table"
   ]
  },
  {
   "cell_type": "code",
   "execution_count": 4,
   "metadata": {},
   "outputs": [],
   "source": [
    "# Initialising the weights to zero\n",
    "w_or = np.full((3, 1), 0)\n",
    "\n",
    "num_epochs = 20000\n",
    "\n",
    "# Learning rate and number of data points\n",
    "lr = 1e-2\n",
    "m = 4\n",
    "\n",
    "# Array of epochs and losses\n",
    "epochs = list(range(0, 20000, 1000))\n",
    "losses = []\n",
    "\n",
    "# Loop which calculates the losses and iteratively updates the weights\n",
    "for epoch in range(num_epochs):\n",
    "    pred = sigmoid(X_or@w_or)\n",
    "\n",
    "    loss = cost_function(y_or, pred)\n",
    "\n",
    "    w_or = w_or - (lr/m)*(X_or.T)@(pred - y_or)\n",
    "\n",
    "    if epoch%1000 == 0:\n",
    "        losses.append(loss)\n",
    "        # print(f'loss at epoch {epoch}: {loss}')"
   ]
  },
  {
   "cell_type": "code",
   "execution_count": 5,
   "metadata": {},
   "outputs": [
    {
     "data": {
      "text/plain": [
       "array([[-2.183045  ],\n",
       "       [ 5.35944023],\n",
       "       [ 5.35944023]])"
      ]
     },
     "execution_count": 5,
     "metadata": {},
     "output_type": "execute_result"
    }
   ],
   "source": [
    "# Final updated weights\n",
    "w_or"
   ]
  },
  {
   "attachments": {},
   "cell_type": "markdown",
   "metadata": {},
   "source": [
    "Plotting losses vs epoch number"
   ]
  },
  {
   "cell_type": "code",
   "execution_count": 6,
   "metadata": {},
   "outputs": [
    {
     "data": {
      "image/png": "[encoded data removed]",
      "text/plain": [
       "<Figure size 432x360 with 1 Axes>"
      ]
     },
     "metadata": {
      "needs_background": "light"
     },
     "output_type": "display_data"
    }
   ],
   "source": [
    "# Plotting losses vs epoch number\n",
    "with mpl.rc_context({'figure.figsize': (6, 5), 'font.size': 10}):\n",
    "    plt.figure()\n",
    "\n",
    "    plt.plot(epochs, losses)\n",
    "    plt.xlabel('Epochs')\n",
    "    plt.ylabel('Loss')\n",
    "    plt.title('Loss vs epochs for classification model for OR gate')"
   ]
  },
  {
   "attachments": {},
   "cell_type": "markdown",
   "metadata": {},
   "source": [
    "#### Verifying whether the model has really replicated the OR gate"
   ]
  },
  {
   "cell_type": "code",
   "execution_count": 7,
   "metadata": {},
   "outputs": [
    {
     "data": {
      "text/plain": [
       "array([[0],\n",
       "       [1],\n",
       "       [1],\n",
       "       [1]])"
      ]
     },
     "execution_count": 7,
     "metadata": {},
     "output_type": "execute_result"
    }
   ],
   "source": [
    "# Predicting the outputs of the OR gate\n",
    "predict(X_or, w_or, predict_class=True)"
   ]
  },
  {
   "attachments": {},
   "cell_type": "markdown",
   "metadata": {},
   "source": [
    "#### It is observed that the model has replicated the OR gate well."
   ]
  },
  {
   "attachments": {},
   "cell_type": "markdown",
   "metadata": {},
   "source": [
    "##### Commenting on the converged values for the weights:\n",
    "\n",
    "##### It is observed that the datapoints of different classes are linearly separable. Using weights corresponding to only linear features, it is possible to accurately classify the output as 0 or 1. Also it should be noted that the weights corresponding to the both input variables are equal, which means that slope of the straight line separating the classes is -1."
   ]
  },
  {
   "attachments": {},
   "cell_type": "markdown",
   "metadata": {},
   "source": [
    "### Question 1-b: Implementing logistic regression for AND and XOR gates"
   ]
  },
  {
   "attachments": {},
   "cell_type": "markdown",
   "metadata": {},
   "source": [
    "#### First the AND gate will be modelled"
   ]
  },
  {
   "cell_type": "code",
   "execution_count": 8,
   "metadata": {},
   "outputs": [],
   "source": [
    "# Creating custom dataset for AND gate\n",
    "\n",
    "# First column is for representing the bias term\n",
    "X_and = np.array([[1, 0, 0],\n",
    "             [1, 1, 0],\n",
    "             [1, 0, 1],\n",
    "             [1, 1, 1]])\n",
    "\n",
    "y_and = np.array([[0], [0], [0], [1]])\n",
    "\n",
    "# Initialising weights\n",
    "w_and = np.full((3, 1), 0)\n",
    "\n",
    "num_epochs = 20000\n",
    "\n",
    "lr = 1e-2\n",
    "m = 4\n",
    "\n",
    "epochs = list(range(0, 20000, 1000))\n",
    "losses = []\n",
    "\n",
    "# Running the loop to calculate losses and update the weights\n",
    "for epoch in range(num_epochs):\n",
    "    pred = sigmoid(X_and@w_and)\n",
    "\n",
    "    loss = cost_function(y_and, pred)\n",
    "\n",
    "    w_and = w_and - (lr/m)*(X_and.T)@(pred - y_and)\n",
    "\n",
    "    if epoch%1000 == 0:\n",
    "        losses.append(loss)\n",
    "        # print(f'loss at epoch {epoch}: {loss}')"
   ]
  },
  {
   "cell_type": "code",
   "execution_count": 9,
   "metadata": {},
   "outputs": [
    {
     "data": {
      "text/plain": [
       "array([[-6.54715961],\n",
       "       [ 4.23678837],\n",
       "       [ 4.23678837]])"
      ]
     },
     "execution_count": 9,
     "metadata": {},
     "output_type": "execute_result"
    }
   ],
   "source": [
    "# Final values of weights\n",
    "w_and"
   ]
  },
  {
   "cell_type": "code",
   "execution_count": 10,
   "metadata": {},
   "outputs": [
    {
     "data": {
      "image/png": "[encoded data removed]",
      "text/plain": [
       "<Figure size 432x360 with 1 Axes>"
      ]
     },
     "metadata": {
      "needs_background": "light"
     },
     "output_type": "display_data"
    }
   ],
   "source": [
    "# Plotting the losses vs epoch number for AND gate training\n",
    "with mpl.rc_context({'figure.figsize': (6, 5), 'font.size': 10}):\n",
    "    plt.figure()\n",
    "\n",
    "    plt.plot(epochs, losses)\n",
    "    plt.xlabel('Epochs')\n",
    "    plt.ylabel('Loss')\n",
    "    plt.title('Loss vs epochs for classification model for AND gate')"
   ]
  },
  {
   "attachments": {},
   "cell_type": "markdown",
   "metadata": {},
   "source": [
    "#### Verifying whether the model has really replicated the AND gate"
   ]
  },
  {
   "cell_type": "code",
   "execution_count": 11,
   "metadata": {},
   "outputs": [
    {
     "data": {
      "text/plain": [
       "array([[0],\n",
       "       [0],\n",
       "       [0],\n",
       "       [1]])"
      ]
     },
     "execution_count": 11,
     "metadata": {},
     "output_type": "execute_result"
    }
   ],
   "source": [
    "# Predicting the outputs of AND gate\n",
    "predict(X_and, w_and, predict_class=True)"
   ]
  },
  {
   "attachments": {},
   "cell_type": "markdown",
   "metadata": {},
   "source": [
    "#### Thus it is observed that the model replicates the AND gate very well."
   ]
  },
  {
   "attachments": {},
   "cell_type": "markdown",
   "metadata": {},
   "source": [
    "##### Commenting on the converged values for the weights:\n",
    "\n",
    "##### It is observed that the datapoints of different classes are linearly separable. Using weights corresponding to only linear features, it is possible to accurately classify the output as 0 or 1. Here also, weights corresponding to the both featues are equal, so the straight line separating the classes is of slope -1."
   ]
  },
  {
   "attachments": {},
   "cell_type": "markdown",
   "metadata": {},
   "source": [
    "#### Now, the XOR gate will be modelled"
   ]
  },
  {
   "cell_type": "code",
   "execution_count": 12,
   "metadata": {},
   "outputs": [],
   "source": [
    "# Creating custom dataset for AND gate\n",
    "\n",
    "# First column is for representing the bias term\n",
    "X_xor = np.array([[1, 0, 0],\n",
    "             [1, 1, 0],\n",
    "             [1, 0, 1],\n",
    "             [1, 1, 1]])\n",
    "\n",
    "y_xor = np.array([[0], [1], [1], [0]])\n",
    "\n",
    "# initialising the weights with the value 0.1\n",
    "w_xor = np.full((3, 1), 0.1)\n",
    "\n",
    "num_epochs = 200000\n",
    "\n",
    "lr = 1e-2\n",
    "m = 4\n",
    "\n",
    "epochs = list(range(0, 200000, 10000))\n",
    "losses = []\n",
    "\n",
    "for epoch in range(num_epochs):\n",
    "    pred = sigmoid(X_xor@w_xor)\n",
    "\n",
    "    loss = cost_function(y_xor, pred)\n",
    "\n",
    "    w_xor = w_xor - (lr/m)*(X_xor.T)@(pred - y_xor)\n",
    "\n",
    "    if epoch%10000 == 0:\n",
    "        losses.append(loss)\n",
    "        # print(f'loss at epoch {epoch}: {loss}')"
   ]
  },
  {
   "cell_type": "code",
   "execution_count": 13,
   "metadata": {},
   "outputs": [
    {
     "data": {
      "text/plain": [
       "array([[-3.32971424e-16],\n",
       "       [ 2.49583340e-16],\n",
       "       [ 2.49696305e-16]])"
      ]
     },
     "execution_count": 13,
     "metadata": {},
     "output_type": "execute_result"
    }
   ],
   "source": [
    "# Final values of weights for XOR gate model\n",
    "w_xor"
   ]
  },
  {
   "cell_type": "code",
   "execution_count": 14,
   "metadata": {},
   "outputs": [
    {
     "data": {
      "image/png": "[encoded data removed]",
      "text/plain": [
       "<Figure size 432x360 with 1 Axes>"
      ]
     },
     "metadata": {
      "needs_background": "light"
     },
     "output_type": "display_data"
    }
   ],
   "source": [
    "# Plotting the losses vs epoch number\n",
    "with mpl.rc_context({'figure.figsize': (6, 5), 'font.size': 10}):\n",
    "    plt.figure()\n",
    "\n",
    "    plt.plot(epochs, losses)\n",
    "    plt.xlabel('Epochs')\n",
    "    plt.ylabel('Loss')\n",
    "    plt.title('Loss vs epochs for classification model for XOR gate')"
   ]
  },
  {
   "attachments": {},
   "cell_type": "markdown",
   "metadata": {},
   "source": [
    "### Verifying whether the model has replicated the XOR gate properly"
   ]
  },
  {
   "cell_type": "code",
   "execution_count": 15,
   "metadata": {},
   "outputs": [
    {
     "data": {
      "text/plain": [
       "array([[0],\n",
       "       [0],\n",
       "       [0],\n",
       "       [0]])"
      ]
     },
     "execution_count": 15,
     "metadata": {},
     "output_type": "execute_result"
    }
   ],
   "source": [
    "# Predicting the outputs for the XOR gate\n",
    "predict(X_xor, w_xor, predict_class=True)"
   ]
  },
  {
   "attachments": {},
   "cell_type": "markdown",
   "metadata": {},
   "source": [
    "### Commenting on the converged values for the weights:\n",
    "\n",
    "##### Weights obtained are very small (close to zero), and also it is classifying every datapoint as zero. The datapoints of different classes are not linearly separable. A straight line cannot separate the datapoints corresponding to classes 1 and 0. Therefore the logistic regression which uses only linear features is not able to replicate the XOR gate properly."
   ]
  },
  {
   "attachments": {},
   "cell_type": "markdown",
   "metadata": {},
   "source": [
    "# Question 2 - a: Logistic regression for IRIS dataset"
   ]
  },
  {
   "attachments": {},
   "cell_type": "markdown",
   "metadata": {},
   "source": [
    "#### Note: The dataset is loaded from the iris.data file downloaded from the website."
   ]
  },
  {
   "cell_type": "code",
   "execution_count": 16,
   "metadata": {},
   "outputs": [
    {
     "data": {
      "text/html": [
       "<div>\n",
       "<style scoped>\n",
       "    .dataframe tbody tr th:only-of-type {\n",
       "        vertical-align: middle;\n",
       "    }\n",
       "\n",
       "    .dataframe tbody tr th {\n",
       "        vertical-align: top;\n",
       "    }\n",
       "\n",
       "    .dataframe thead th {\n",
       "        text-align: right;\n",
       "    }\n",
       "</style>\n",
       "<table border=\"1\" class=\"dataframe\">\n",
       "  <thead>\n",
       "    <tr style=\"text-align: right;\">\n",
       "      <th></th>\n",
       "      <th>sepal_length</th>\n",
       "      <th>sepal_width</th>\n",
       "      <th>petal_length</th>\n",
       "      <th>petal_width</th>\n",
       "      <th>class</th>\n",
       "    </tr>\n",
       "  </thead>\n",
       "  <tbody>\n",
       "    <tr>\n",
       "      <th>0</th>\n",
       "      <td>5.1</td>\n",
       "      <td>3.5</td>\n",
       "      <td>1.4</td>\n",
       "      <td>0.2</td>\n",
       "      <td>Iris-setosa</td>\n",
       "    </tr>\n",
       "    <tr>\n",
       "      <th>1</th>\n",
       "      <td>4.9</td>\n",
       "      <td>3.0</td>\n",
       "      <td>1.4</td>\n",
       "      <td>0.2</td>\n",
       "      <td>Iris-setosa</td>\n",
       "    </tr>\n",
       "    <tr>\n",
       "      <th>2</th>\n",
       "      <td>4.7</td>\n",
       "      <td>3.2</td>\n",
       "      <td>1.3</td>\n",
       "      <td>0.2</td>\n",
       "      <td>Iris-setosa</td>\n",
       "    </tr>\n",
       "    <tr>\n",
       "      <th>3</th>\n",
       "      <td>4.6</td>\n",
       "      <td>3.1</td>\n",
       "      <td>1.5</td>\n",
       "      <td>0.2</td>\n",
       "      <td>Iris-setosa</td>\n",
       "    </tr>\n",
       "    <tr>\n",
       "      <th>4</th>\n",
       "      <td>5.0</td>\n",
       "      <td>3.6</td>\n",
       "      <td>1.4</td>\n",
       "      <td>0.2</td>\n",
       "      <td>Iris-setosa</td>\n",
       "    </tr>\n",
       "  </tbody>\n",
       "</table>\n",
       "</div>"
      ],
      "text/plain": [
       "   sepal_length  sepal_width  petal_length  petal_width        class\n",
       "0           5.1          3.5           1.4          0.2  Iris-setosa\n",
       "1           4.9          3.0           1.4          0.2  Iris-setosa\n",
       "2           4.7          3.2           1.3          0.2  Iris-setosa\n",
       "3           4.6          3.1           1.5          0.2  Iris-setosa\n",
       "4           5.0          3.6           1.4          0.2  Iris-setosa"
      ]
     },
     "execution_count": 16,
     "metadata": {},
     "output_type": "execute_result"
    }
   ],
   "source": [
    "iris_df = pd.read_csv('iris.data', names=['sepal_length', 'sepal_width', 'petal_length', 'petal_width', 'class'])\n",
    "\n",
    "iris_df.head()"
   ]
  },
  {
   "attachments": {},
   "cell_type": "markdown",
   "metadata": {},
   "source": [
    "One-Hot encoding the target column"
   ]
  },
  {
   "cell_type": "code",
   "execution_count": 17,
   "metadata": {},
   "outputs": [
    {
     "data": {
      "text/html": [
       "<div>\n",
       "<style scoped>\n",
       "    .dataframe tbody tr th:only-of-type {\n",
       "        vertical-align: middle;\n",
       "    }\n",
       "\n",
       "    .dataframe tbody tr th {\n",
       "        vertical-align: top;\n",
       "    }\n",
       "\n",
       "    .dataframe thead th {\n",
       "        text-align: right;\n",
       "    }\n",
       "</style>\n",
       "<table border=\"1\" class=\"dataframe\">\n",
       "  <thead>\n",
       "    <tr style=\"text-align: right;\">\n",
       "      <th></th>\n",
       "      <th>sepal_length</th>\n",
       "      <th>sepal_width</th>\n",
       "      <th>petal_length</th>\n",
       "      <th>petal_width</th>\n",
       "      <th>Iris-setosa</th>\n",
       "      <th>Iris-versicolor</th>\n",
       "      <th>Iris-virginica</th>\n",
       "    </tr>\n",
       "  </thead>\n",
       "  <tbody>\n",
       "    <tr>\n",
       "      <th>0</th>\n",
       "      <td>5.1</td>\n",
       "      <td>3.5</td>\n",
       "      <td>1.4</td>\n",
       "      <td>0.2</td>\n",
       "      <td>1</td>\n",
       "      <td>0</td>\n",
       "      <td>0</td>\n",
       "    </tr>\n",
       "    <tr>\n",
       "      <th>1</th>\n",
       "      <td>4.9</td>\n",
       "      <td>3.0</td>\n",
       "      <td>1.4</td>\n",
       "      <td>0.2</td>\n",
       "      <td>1</td>\n",
       "      <td>0</td>\n",
       "      <td>0</td>\n",
       "    </tr>\n",
       "    <tr>\n",
       "      <th>2</th>\n",
       "      <td>4.7</td>\n",
       "      <td>3.2</td>\n",
       "      <td>1.3</td>\n",
       "      <td>0.2</td>\n",
       "      <td>1</td>\n",
       "      <td>0</td>\n",
       "      <td>0</td>\n",
       "    </tr>\n",
       "    <tr>\n",
       "      <th>3</th>\n",
       "      <td>4.6</td>\n",
       "      <td>3.1</td>\n",
       "      <td>1.5</td>\n",
       "      <td>0.2</td>\n",
       "      <td>1</td>\n",
       "      <td>0</td>\n",
       "      <td>0</td>\n",
       "    </tr>\n",
       "    <tr>\n",
       "      <th>4</th>\n",
       "      <td>5.0</td>\n",
       "      <td>3.6</td>\n",
       "      <td>1.4</td>\n",
       "      <td>0.2</td>\n",
       "      <td>1</td>\n",
       "      <td>0</td>\n",
       "      <td>0</td>\n",
       "    </tr>\n",
       "  </tbody>\n",
       "</table>\n",
       "</div>"
      ],
      "text/plain": [
       "   sepal_length  sepal_width  petal_length  petal_width  Iris-setosa  \\\n",
       "0           5.1          3.5           1.4          0.2            1   \n",
       "1           4.9          3.0           1.4          0.2            1   \n",
       "2           4.7          3.2           1.3          0.2            1   \n",
       "3           4.6          3.1           1.5          0.2            1   \n",
       "4           5.0          3.6           1.4          0.2            1   \n",
       "\n",
       "   Iris-versicolor  Iris-virginica  \n",
       "0                0               0  \n",
       "1                0               0  \n",
       "2                0               0  \n",
       "3                0               0  \n",
       "4                0               0  "
      ]
     },
     "execution_count": 17,
     "metadata": {},
     "output_type": "execute_result"
    }
   ],
   "source": [
    "y = pd.get_dummies(iris_df['class'])\n",
    "\n",
    "# Keeping the categorical labels in class_true as it will be used for making confusion matrix\n",
    "class_true = iris_df['class']\n",
    "\n",
    "iris_df.drop(columns='class', axis=1, inplace=True)\n",
    "iris_df = iris_df.join(y)\n",
    "\n",
    "iris_df.head()"
   ]
  },
  {
   "attachments": {},
   "cell_type": "markdown",
   "metadata": {},
   "source": [
    "Separating the target columns and the training data"
   ]
  },
  {
   "cell_type": "code",
   "execution_count": 18,
   "metadata": {},
   "outputs": [],
   "source": [
    "# Taking the inputs and target columns\n",
    "X = iris_df.drop(columns=['Iris-setosa', 'Iris-versicolor', 'Iris-virginica'], axis=1).values\n",
    "y = iris_df[['Iris-setosa', 'Iris-versicolor', 'Iris-virginica']].values\n",
    "\n",
    "# Adding a column of ones in the training data, to represent the bias term\n",
    "X = np.hstack([np.ones((X.shape[0], 1)), X])\n",
    "\n",
    "# Splitting the train and test datasets\n",
    "X_train, X_test, y_train, y_test, class_true_train, class_true_test = train_test_split(X, y, class_true, test_size=0.3, random_state=42)"
   ]
  },
  {
   "cell_type": "code",
   "execution_count": 19,
   "metadata": {},
   "outputs": [],
   "source": [
    "def softmax(z):\n",
    "    # Softmax function\n",
    "    return np.exp(z) / np.sum(np.exp(z), axis=1, keepdims=True)\n",
    "\n",
    "def cost_function_multiclass(y_true, y_pred):\n",
    "    # Cost function for multiclass logistic regression\n",
    "    return -np.mean(y_true*np.log(y_pred))\n",
    "\n",
    "def predict_multiclass(X, weights):\n",
    "    # Predicts the class using given weights\n",
    "    pred = softmax(X@weights)\n",
    "\n",
    "    return np.argmax(pred, axis=1)"
   ]
  },
  {
   "cell_type": "code",
   "execution_count": 20,
   "metadata": {},
   "outputs": [],
   "source": [
    "def train(X, y_true):\n",
    "    # Trains a multiclass logistic regression model and returns the final weights and losses array\n",
    "    w = np.full((5, 3), 0)\n",
    "\n",
    "    num_epochs = 20000\n",
    "\n",
    "    lr = 1e-2\n",
    "    m = 4\n",
    "\n",
    "    epochs = list(range(0, 20000, 1000))\n",
    "    losses = []\n",
    "\n",
    "    for epoch in range(num_epochs):\n",
    "        pred = softmax(X@w)\n",
    "\n",
    "        loss = cost_function_multiclass(y_true, pred)\n",
    "\n",
    "        w = w - (lr/m)*(X.T)@(pred - y_true)\n",
    "\n",
    "        if epoch%1000 == 0:\n",
    "            losses.append(loss)\n",
    "            # print(f'loss at epoch {epoch}: {loss}')\n",
    "\n",
    "    return w, losses"
   ]
  },
  {
   "attachments": {},
   "cell_type": "markdown",
   "metadata": {},
   "source": [
    "Training the multiclass logistic regression model on iris dataset"
   ]
  },
  {
   "cell_type": "code",
   "execution_count": 21,
   "metadata": {},
   "outputs": [
    {
     "data": {
      "text/plain": [
       "array([[ 1.04339377,  6.44514581, -7.48853958],\n",
       "       [ 2.29742622,  0.19670894, -2.49413516],\n",
       "       [ 4.95391856,  0.59206236, -5.54598092],\n",
       "       [-6.7789118 ,  0.33347621,  6.4454356 ],\n",
       "       [-3.35396433, -3.7547831 ,  7.10874743]])"
      ]
     },
     "execution_count": 21,
     "metadata": {},
     "output_type": "execute_result"
    }
   ],
   "source": [
    "epochs = list(range(0, 20000, 1000))\n",
    "\n",
    "weights_multiclass, losses = train(X_train, y_train)\n",
    "\n",
    "# Final weights obtained after training\n",
    "weights_multiclass"
   ]
  },
  {
   "cell_type": "code",
   "execution_count": 22,
   "metadata": {},
   "outputs": [
    {
     "data": {
      "image/png": "[encoded data removed]",
      "text/plain": [
       "<Figure size 432x360 with 1 Axes>"
      ]
     },
     "metadata": {
      "needs_background": "light"
     },
     "output_type": "display_data"
    }
   ],
   "source": [
    "# Plotting the loss vs epoch number for the training on iris dataset\n",
    "with mpl.rc_context({'figure.figsize': (6, 5), 'font.size': 10}):\n",
    "    plt.figure()\n",
    "\n",
    "    plt.plot(epochs, losses)\n",
    "    plt.xlabel('Epochs')\n",
    "    plt.ylabel('Loss')\n",
    "    plt.title('Loss vs epochs for classification model on IRIS dataset')"
   ]
  },
  {
   "attachments": {},
   "cell_type": "markdown",
   "metadata": {},
   "source": [
    "# Question 2 - b: Reporting the confusion matrix"
   ]
  },
  {
   "attachments": {},
   "cell_type": "markdown",
   "metadata": {},
   "source": [
    "### In the assignment it was given that the model must be trained on the entire iris dataset.  \n",
    "\n",
    "### However, if all of the given data is used for training, then there will be no test dataset for computing the confusion matrix. It is sensible to avoid using the train dataset for confusion matrix and instead do a 70-30 train-test split.\n",
    "\n",
    "### So, here it is assumed that we should report the confusion matrix for the test dataset after splitting."
   ]
  },
  {
   "cell_type": "code",
   "execution_count": 23,
   "metadata": {},
   "outputs": [],
   "source": [
    "# Predicting the classes for the test dataset using the trained model\n",
    "class_pred_test = predict_multiclass(X_test, weights_multiclass)"
   ]
  },
  {
   "cell_type": "code",
   "execution_count": 24,
   "metadata": {},
   "outputs": [],
   "source": [
    "# Taking the predicted classes and the correct class labels and merging into a pandas dataframe\n",
    "y_table = pd.DataFrame(class_true_test)\n",
    "y_table['class_pred'] = class_pred_test.tolist()\n",
    "\n",
    "# Changing numeric labels to categorical labels\n",
    "y_table['class_pred'].replace({0: 'Iris-setosa', 1: 'Iris-versicolor', 2: 'Iris-virginica'}, inplace=True)"
   ]
  },
  {
   "attachments": {},
   "cell_type": "markdown",
   "metadata": {},
   "source": [
    "Creating the confusion matrix using pd.crosstab function"
   ]
  },
  {
   "cell_type": "code",
   "execution_count": 25,
   "metadata": {},
   "outputs": [],
   "source": [
    "classes = np.unique(y_table[['class', 'class_pred']].values)\n",
    "conf_mat = pd.crosstab(y_table['class'], y_table['class_pred'], rownames=['class'], colnames=['class_pred'])\n",
    "\n",
    "# Setting the index and column tabs and filling the missing values with 0\n",
    "conf_mat = conf_mat.reindex(index=classes, columns=classes, fill_value=0)"
   ]
  },
  {
   "cell_type": "code",
   "execution_count": 26,
   "metadata": {},
   "outputs": [
    {
     "data": {
      "text/html": [
       "<div>\n",
       "<style scoped>\n",
       "    .dataframe tbody tr th:only-of-type {\n",
       "        vertical-align: middle;\n",
       "    }\n",
       "\n",
       "    .dataframe tbody tr th {\n",
       "        vertical-align: top;\n",
       "    }\n",
       "\n",
       "    .dataframe thead th {\n",
       "        text-align: right;\n",
       "    }\n",
       "</style>\n",
       "<table border=\"1\" class=\"dataframe\">\n",
       "  <thead>\n",
       "    <tr style=\"text-align: right;\">\n",
       "      <th>class_pred</th>\n",
       "      <th>Iris-setosa</th>\n",
       "      <th>Iris-versicolor</th>\n",
       "      <th>Iris-virginica</th>\n",
       "    </tr>\n",
       "    <tr>\n",
       "      <th>class</th>\n",
       "      <th></th>\n",
       "      <th></th>\n",
       "      <th></th>\n",
       "    </tr>\n",
       "  </thead>\n",
       "  <tbody>\n",
       "    <tr>\n",
       "      <th>Iris-setosa</th>\n",
       "      <td>19</td>\n",
       "      <td>0</td>\n",
       "      <td>0</td>\n",
       "    </tr>\n",
       "    <tr>\n",
       "      <th>Iris-versicolor</th>\n",
       "      <td>0</td>\n",
       "      <td>13</td>\n",
       "      <td>0</td>\n",
       "    </tr>\n",
       "    <tr>\n",
       "      <th>Iris-virginica</th>\n",
       "      <td>0</td>\n",
       "      <td>0</td>\n",
       "      <td>13</td>\n",
       "    </tr>\n",
       "  </tbody>\n",
       "</table>\n",
       "</div>"
      ],
      "text/plain": [
       "class_pred       Iris-setosa  Iris-versicolor  Iris-virginica\n",
       "class                                                        \n",
       "Iris-setosa               19                0               0\n",
       "Iris-versicolor            0               13               0\n",
       "Iris-virginica             0                0              13"
      ]
     },
     "execution_count": 26,
     "metadata": {},
     "output_type": "execute_result"
    }
   ],
   "source": [
    "conf_mat"
   ]
  },
  {
   "attachments": {},
   "cell_type": "markdown",
   "metadata": {},
   "source": [
    "Plotting the confusion matrix"
   ]
  },
  {
   "cell_type": "code",
   "execution_count": 27,
   "metadata": {},
   "outputs": [
    {
     "data": {
      "image/png": "[encoded data removed]",
      "text/plain": [
       "<Figure size 864x720 with 2 Axes>"
      ]
     },
     "metadata": {
      "needs_background": "light"
     },
     "output_type": "display_data"
    }
   ],
   "source": [
    "# Plotting the confusion matrix\n",
    "with mpl.rc_context({'figure.figsize': (12, 10), 'font.size': 20}):\n",
    "    plt.figure()\n",
    "    sns.heatmap(conf_mat, annot=True, cmap='Blues')\n",
    "\n",
    "    plt.xlabel('Predicted Class')\n",
    "    plt.ylabel('True Class')\n",
    "    plt.title('Confusion matrix for classification for iris dataset')"
   ]
  },
  {
   "attachments": {},
   "cell_type": "markdown",
   "metadata": {},
   "source": [
    "### It is observed that the model scores 100% accuracy on the test dataset. There is no mis-classification by the model on the test dataset."
   ]
  }
 ],
 "metadata": {
  "kernelspec": {
   "display_name": "Python 3",
   "language": "python",
   "name": "python3"
  },
  "language_info": {
   "codemirror_mode": {
    "name": "ipython",
    "version": 3
   },
   "file_extension": ".py",
   "mimetype": "text/x-python",
   "name": "python",
   "nbconvert_exporter": "python",
   "pygments_lexer": "ipython3",
   "version": "3.8.10"
  },
  "orig_nbformat": 4,
  "vscode": {
   "interpreter": {
    "hash": "916dbcbb3f70747c44a77c7bcd40155683ae19c65e1c03b4aa3499c5328201f1"
   }
  }
 },
 "nbformat": 4,
 "nbformat_minor": 2
}
