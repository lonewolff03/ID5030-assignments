{
 "cells": [
  {
   "attachments": {},
   "cell_type": "markdown",
   "metadata": {},
   "source": [
    "# ID5030 Assignment - 8\n",
    "### Physics Informed Neural Networks\n",
    "\n",
    "By: P Akhil Reddy    \n",
    "Roll No: CH20B076"
   ]
  },
  {
   "attachments": {},
   "cell_type": "markdown",
   "metadata": {},
   "source": [
    "### Question 1-a: Solving the 1-D advection equation using the PINN.\n",
    "### (Using PyTorch)"
   ]
  },
  {
   "cell_type": "code",
   "execution_count": 1,
   "metadata": {},
   "outputs": [],
   "source": [
    "import torch\n",
    "import torch.nn as nn\n",
    "import torch.autograd as ag\n",
    "import numpy as np\n",
    "from random import uniform\n",
    "\n",
    "import matplotlib.pyplot as plt\n",
    "from mpl_toolkits.axes_grid1 import make_axes_locatable"
   ]
  },
  {
   "attachments": {},
   "cell_type": "markdown",
   "metadata": {},
   "source": [
    "#### Defining the PINN class."
   ]
  },
  {
   "cell_type": "code",
   "execution_count": 2,
   "metadata": {},
   "outputs": [],
   "source": [
    "class PINN():\n",
    "    def __init__(self, X_u, u, X_f, lr=1, max_epochs=50000):\n",
    "        # collocation points:\n",
    "        self.x_f = torch.tensor(X_f[:, 0].reshape(-1, 1), dtype=torch.float32, requires_grad=True)\n",
    "\n",
    "        self.t_f = torch.tensor(X_f[:, 1].reshape(-1, 1), dtype=torch.float32, requires_grad=True)\n",
    "\n",
    "        # Null vector for testing against collocation points f:\n",
    "        self.null =  torch.zeros((self.x_f.shape[0], 1))\n",
    "\n",
    "        # Solution for Boundary:\n",
    "        self.u = torch.tensor(u, dtype=torch.float32)\n",
    "\n",
    "        # boundary condition:\n",
    "        self.x_u = torch.tensor(X_u[:, 0].reshape(-1, 1), dtype=torch.float32, requires_grad=True)\n",
    "\n",
    "        self.t_u = torch.tensor(X_u[:, 1].reshape(-1, 1), dtype=torch.float32, requires_grad=True)\n",
    "\n",
    "        # Defining the neural network which approximates the PDE function\n",
    "        self.net = nn.Sequential(\n",
    "            nn.Linear(2, 10), nn.Tanh(),\n",
    "            nn.Linear(10, 10), nn.Tanh(),\n",
    "            nn.Linear(10, 10), nn.Tanh(),\n",
    "            nn.Linear(10, 10), nn.Tanh(),\n",
    "            nn.Linear(10, 10), nn.Tanh(),\n",
    "            nn.Linear(10, 10), nn.Tanh(),\n",
    "            nn.Linear(10, 1))\n",
    "        \n",
    "        # Constant used in 1-D advection equation\n",
    "        self.a = 0.15\n",
    "\n",
    "        self.net_params = self.net.parameters()\n",
    "        self.lr = lr\n",
    "        self.max_epochs = max_epochs\n",
    "        self.loss = nn.MSELoss()\n",
    "        self.calc_loss = 0\n",
    "        self.epoch_num = 0\n",
    "        self.history_size = 100\n",
    "\n",
    "        # Optimizer which updates the weights and biases of the net:\n",
    "        self.optimizer = torch.optim.LBFGS(self.net_params,\n",
    "                                    lr=self.lr,\n",
    "                                    max_iter=self.max_epochs,\n",
    "                                    max_eval=self.max_epochs*1.25,\n",
    "                                    history_size=self.history_size,\n",
    "                                    tolerance_change=0.5 * np.finfo(float).eps,\n",
    "                                    line_search_fn=\"strong_wolfe\")\n",
    "        \n",
    "    def pred_u(self, x, t):\n",
    "        u = self.net( torch.hstack((x, t)) )\n",
    "        return u\n",
    "\n",
    "    def pred_f(self, x, t):# Null vector for testing against collocation points f:\n",
    "        self.null =  torch.zeros((self.x_f.shape[0], 1))\n",
    "        \"\"\"Physics based function which appromixates the function value\"\"\"\n",
    "        u = self.pred_u(x, t)\n",
    "        \n",
    "        # Computing the time derivative\n",
    "        u_t = ag.grad(u, t, grad_outputs=torch.ones_like(u), retain_graph=True, create_graph=True)[0]\n",
    "\n",
    "        # Computing the derivative with respect to x\n",
    "        u_x = ag.grad(u, x, grad_outputs=torch.ones_like(u), retain_graph=True, create_graph=True)[0]\n",
    "\n",
    "        return u_t + (self.a * u_x)\n",
    "\n",
    "    def train_step(self):\n",
    "        self.optimizer.zero_grad()\n",
    "        \n",
    "        # Predictions for u and f\n",
    "        u_prediction = self.pred_u(self.x_u, self.t_u)\n",
    "        f_prediction = self.pred_f(self.x_f, self.t_f)\n",
    "\n",
    "        self.calc_loss = self.loss(u_prediction, self.u) + self.loss(f_prediction, self.null)\n",
    "\n",
    "        # Backpropagation\n",
    "        self.calc_loss.backward()\n",
    "\n",
    "        # Printing loss after every 100 epochs\n",
    "        if (self.epoch_num % 100 == 0):\n",
    "            print(f\"At epoch: {self.epoch_num}, loss: {self.calc_loss:8.4f}\")\n",
    "\n",
    "        self.epoch_num += 1\n",
    "        \n",
    "        return self.calc_loss\n",
    "        \n",
    "    def train_model(self):\n",
    "        \"\"\" training loop \"\"\"\n",
    "        self.net.train()\n",
    "        self.optimizer.step(self.train_step)\n",
    "\n",
    "    def plot(self):\n",
    "        \"\"\" Function for plotting the solution on new data \"\"\"\n",
    "        x = torch.linspace(-1, 1, 200)\n",
    "        t = torch.linspace( 0, 1, 100)\n",
    "        x_mesh, t_mesh = torch.meshgrid(x, t)\n",
    "\n",
    "        x_col = x_mesh.reshape(-1, 1)\n",
    "        t_col = t_mesh.reshape(-1, 1)\n",
    "\n",
    "        usol = self.pred_u(x_col, t_col)\n",
    "\n",
    "        U = usol.reshape(x.numel(), t.numel()).detach().numpy()\n",
    "\n",
    "        x_np = x.numpy()\n",
    "        t_np = t.numpy()\n",
    "\n",
    "        # Creating figure\n",
    "        fig = plt.figure(figsize=(12, 6))\n",
    "        ax = fig.add_subplot(111)\n",
    "        ax.set_xlabel(\"Time t\")\n",
    "        ax.set_ylabel(\"Distance x\")\n",
    "        ax.set_title(\"Solution plot of 1-D advection equation\")\n",
    "\n",
    "        h = ax.imshow(U, interpolation='nearest', cmap='turbo', extent=[t_np.min(), t_np.max(), x_np.min(), x_np.max()], origin='lower', aspect='auto')\n",
    "        divider = make_axes_locatable(ax)\n",
    "        cax = divider.append_axes(\"right\", size=\"5%\", pad=0.10)\n",
    "        cbar = fig.colorbar(h, cax=cax)\n",
    "        cbar.ax.tick_params(labelsize=10)\n",
    "        plt.show()\n"
   ]
  },
  {
   "attachments": {},
   "cell_type": "markdown",
   "metadata": {},
   "source": [
    "### Defining all the hyperparameters and processing the dataset to be loaded into the model."
   ]
  },
  {
   "cell_type": "code",
   "execution_count": 3,
   "metadata": {},
   "outputs": [],
   "source": [
    "num_boun = 100            # number of data points in the boundaries             \n",
    "num_colloc = 10000        # Number of collocation points          \n",
    "lr = 1                    # Learning rate\n",
    "max_epochs = 5000         # Maximum number of epochs\n",
    "boun_size1 = num_boun//4\n",
    "boun_size2 = num_boun//2\n",
    "\n",
    "x_upper = np.ones((boun_size1, 1), dtype=float)\n",
    "x_lower = (-1) * np.ones((boun_size1, 1), dtype=float)\n",
    "x_zero = (-1) + 2*np.random.rand(boun_size2, 1)\n",
    "\n",
    "t_upper = np.random.rand(boun_size1, 1)\n",
    "t_lower = np.random.rand(boun_size1, 1)\n",
    "t_zero = np.zeros((boun_size2, 1), dtype=float)\n",
    "\n",
    "# Stack uppers, lowers and zero arrays of X\n",
    "X_upper = np.hstack( (x_upper, t_upper) )\n",
    "X_lower = np.hstack( (x_lower, t_lower) )\n",
    "X_zero = np.hstack( (x_zero, t_zero) )\n",
    "\n",
    "# Stack the arrays to form X_u_train - the boundary condition dataset\n",
    "# And then shuffle the boundary train dataset\n",
    "index = np.arange(0, num_boun)\n",
    "np.random.shuffle(index)\n",
    "X_u_train = np.vstack( (X_upper, X_lower, X_zero) )\n",
    "X_u_train = X_u_train[index, :]\n",
    "    \n",
    "# Make X_f_train\n",
    "X_f_train = np.zeros((num_colloc, 2), dtype=float)\n",
    "for i in range(num_colloc):\n",
    "    X_f_train[i, 0] = uniform(-1, 1)\n",
    "    X_f_train[i, 1] = uniform(0, 1)\n",
    "\n",
    "# Adding the boundary points to the collocation points\n",
    "X_f_train = np.vstack( (X_f_train, X_u_train) )\n",
    "\n",
    "u_upper =  np.zeros((boun_size1, 1), dtype=float)\n",
    "u_lower =  np.zeros((boun_size1, 1), dtype=float) \n",
    "u_zero = -np.sin(np.pi * x_zero)  \n",
    "\n",
    "# Stacking and shuffling the u_train in the same way as X_u_train was shuffled\n",
    "u_train = np.vstack( (u_upper, u_lower, u_zero) )\n",
    "u_train = u_train[index, :]\n",
    "\n",
    "# Creating a PINN model with the datasets\n",
    "pinn = PINN(X_u_train, u_train, X_f_train, lr=lr, max_epochs=max_epochs)"
   ]
  },
  {
   "attachments": {},
   "cell_type": "markdown",
   "metadata": {},
   "source": [
    "### Training the model"
   ]
  },
  {
   "cell_type": "code",
   "execution_count": 4,
   "metadata": {},
   "outputs": [
    {
     "name": "stderr",
     "output_type": "stream",
     "text": [
      "/home/akhil/.local/lib/python3.8/site-packages/torch/autograd/__init__.py:300: UserWarning: CUDA initialization: CUDA unknown error - this may be due to an incorrectly set up environment, e.g. changing env variable CUDA_VISIBLE_DEVICES after program start. Setting the available devices to be zero. (Triggered internally at ../c10/cuda/CUDAFunctions.cpp:109.)\n",
      "  return Variable._execution_engine.run_backward(  # Calls into the C++ engine to run the backward pass\n"
     ]
    },
    {
     "name": "stdout",
     "output_type": "stream",
     "text": [
      "At epoch: 0, loss:   0.3231\n",
      "At epoch: 100, loss:   0.0079\n",
      "At epoch: 200, loss:   0.0067\n",
      "At epoch: 300, loss:   0.0063\n",
      "At epoch: 400, loss:   0.0059\n",
      "At epoch: 500, loss:   0.0055\n",
      "At epoch: 600, loss:   0.0053\n",
      "At epoch: 700, loss:   0.0052\n",
      "At epoch: 800, loss:   0.0048\n",
      "At epoch: 900, loss:   0.0048\n",
      "At epoch: 1000, loss:   0.0043\n",
      "At epoch: 1100, loss:   0.0042\n",
      "At epoch: 1200, loss:   0.0041\n",
      "At epoch: 1300, loss:   0.0039\n",
      "At epoch: 1400, loss:   0.0037\n",
      "At epoch: 1500, loss:   0.0035\n",
      "At epoch: 1600, loss:   0.0033\n"
     ]
    }
   ],
   "source": [
    "pinn.train_model()"
   ]
  },
  {
   "attachments": {},
   "cell_type": "markdown",
   "metadata": {},
   "source": [
    "### Plotting the predictions on new data, i.e., the solution of the 1-D advection equation."
   ]
  },
  {
   "cell_type": "code",
   "execution_count": 5,
   "metadata": {},
   "outputs": [
    {
     "name": "stderr",
     "output_type": "stream",
     "text": [
      "/home/akhil/.local/lib/python3.8/site-packages/torch/functional.py:504: UserWarning: torch.meshgrid: in an upcoming release, it will be required to pass the indexing argument. (Triggered internally at ../aten/src/ATen/native/TensorShape.cpp:3190.)\n",
      "  return _VF.meshgrid(tensors, **kwargs)  # type: ignore[attr-defined]\n"
     ]
    },
    {
     "data": {
      "image/png": "[encoded data removed]",
      "text/plain": [
       "<Figure size 864x432 with 2 Axes>"
      ]
     },
     "metadata": {
      "needs_background": "light"
     },
     "output_type": "display_data"
    }
   ],
   "source": [
    "pinn.plot()"
   ]
  },
  {
   "attachments": {},
   "cell_type": "markdown",
   "metadata": {},
   "source": [
    "### Part 1-b: Discussion of the results."
   ]
  },
  {
   "attachments": {},
   "cell_type": "markdown",
   "metadata": {},
   "source": [
    "<a href=\"https://peymandavvalo.github.io/linear_1d_advection_equation.html\">Link to page containing actual solution of advection equation</a>\n",
    "\n",
    "#### It has been observed that the results obtained are matching with the solution discussed in the above paper. In our solution obtained using PINNs, we observe that the peak and the trough shift in the positive x-direction with time t.\n",
    "\n",
    "#### The same result is discussed in the part 3 of the paper, where the peak shifts in positive x-direction with time t. Also it should be noted that the height of the peak decreases with time. This is also observed in our solution where height of the peak slightly decreases with time, although it is not clearly visible."
   ]
  }
 ],
 "metadata": {
  "kernelspec": {
   "display_name": "Python 3",
   "language": "python",
   "name": "python3"
  },
  "language_info": {
   "codemirror_mode": {
    "name": "ipython",
    "version": 3
   },
   "file_extension": ".py",
   "mimetype": "text/x-python",
   "name": "python",
   "nbconvert_exporter": "python",
   "pygments_lexer": "ipython3",
   "version": "3.8.10"
  },
  "orig_nbformat": 4
 },
 "nbformat": 4,
 "nbformat_minor": 2
}
